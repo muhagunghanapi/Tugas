{
 "cells": [
  {
   "cell_type": "code",
   "execution_count": 1,
   "id": "8479e4ff",
   "metadata": {},
   "outputs": [
    {
     "name": "stdout",
     "output_type": "stream",
     "text": [
      "isikan bilangan 1:15\n",
      "isikan bilangan 2:82\n",
      "hasil 15 + 82 = 97\n"
     ]
    }
   ],
   "source": [
    "#Input & Output\n",
    "bil1 = input('isikan bilangan 1:')\n",
    "bil2 = input('isikan bilangan 2:')\n",
    "hasil = int(bil1) + int (bil2)\n",
    "print(\"hasil\",bil1,\"+\",bil2,\"=\",hasil)"
   ]
  },
  {
   "cell_type": "code",
   "execution_count": 1,
   "id": "9d2b13a5",
   "metadata": {},
   "outputs": [
    {
     "name": "stdout",
     "output_type": "stream",
     "text": [
      "masukkan nilai panjang : 15\n",
      "masukkan nilai lebar : 5\n",
      "luas :  75\n",
      "keliing :  40\n"
     ]
    }
   ],
   "source": [
    "#program menghitung Luas dan keliling persegi panjang\n",
    "panjang = input(\"masukkan nilai panjang : \")\n",
    "lebar = input(\"masukkan nilai lebar : \")\n",
    "luas = int(panjang) * int(lebar)\n",
    "keliling = 2*(int(panjang) + int(lebar))\n",
    "print(\"luas : \", luas)\n",
    "print(\"keliing : \",keliling)"
   ]
  },
  {
   "cell_type": "code",
   "execution_count": 2,
   "id": "1a1ce490",
   "metadata": {},
   "outputs": [
    {
     "name": "stdout",
     "output_type": "stream",
     "text": [
      "A|B|C|D\n"
     ]
    }
   ],
   "source": [
    "print(\"A\",\"B\",\"C\",\"D\", sep =\"|\") #sep = seperator / pembatas"
   ]
  },
  {
   "cell_type": "code",
   "execution_count": 4,
   "id": "07ecd3bb",
   "metadata": {},
   "outputs": [
    {
     "name": "stdout",
     "output_type": "stream",
     "text": [
      "A\n",
      "B\n",
      "C\n",
      "D\n"
     ]
    }
   ],
   "source": [
    "print(\"A\",\"B\",\"C\",\"D\", sep=\"\\n\")"
   ]
  },
  {
   "cell_type": "code",
   "execution_count": 5,
   "id": "a2919375",
   "metadata": {},
   "outputs": [
    {
     "name": "stdout",
     "output_type": "stream",
     "text": [
      "A\n",
      "B\n",
      "C\n",
      "D^_^"
     ]
    }
   ],
   "source": [
    "print(\"A\",\"B\",\"C\",\"D\", sep=\"\\n\", end=\"^_^\")"
   ]
  },
  {
   "cell_type": "code",
   "execution_count": 9,
   "id": "fd9a5c54",
   "metadata": {},
   "outputs": [
    {
     "name": "stdout",
     "output_type": "stream",
     "text": [
      "hasil dari 8 modulus 10 = 8\n"
     ]
    }
   ],
   "source": [
    "num_1 = 8\n",
    "num_2 = 10\n",
    "\n",
    "# hasil dari 8 modulus 10 = 8\n",
    "#str.format()\n",
    "\n",
    "print('hasil dari {} modulus {} = {}'.format(num_1,num_2,num_1%num_2))"
   ]
  },
  {
   "cell_type": "code",
   "execution_count": 11,
   "id": "66937d4a",
   "metadata": {},
   "outputs": [
    {
     "name": "stdout",
     "output_type": "stream",
     "text": [
      "Nama anda Darmawan Rudi Hartono\n"
     ]
    }
   ],
   "source": [
    "fname = \"Rudi\"\n",
    "mname = \"Hartono\"\n",
    "lname = \"Darmawan\"\n",
    "\n",
    "print('Nama anda {2} {0} {1}'.format(fname,mname,lname))"
   ]
  },
  {
   "cell_type": "code",
   "execution_count": 13,
   "id": "98689d95",
   "metadata": {},
   "outputs": [
    {
     "name": "stdout",
     "output_type": "stream",
     "text": [
      "Nama anda Andri, nilai anda 70\n"
     ]
    }
   ],
   "source": [
    "print('Nama anda {nama}, nilai anda {nilai}'.format(nama='Andri',nilai=70))"
   ]
  },
  {
   "cell_type": "code",
   "execution_count": 18,
   "id": "01aa683a",
   "metadata": {},
   "outputs": [
    {
     "name": "stdout",
     "output_type": "stream",
     "text": [
      "karakter pertama :  U\n",
      "karakter terakhir:  a\n",
      "Universitas\n",
      "Putr\n",
      "Putra\n",
      "artuP asuN satisrevinU\n"
     ]
    }
   ],
   "source": [
    "univ = \"Universitas Nusa Putra\"\n",
    "\n",
    "print(\"karakter pertama : \",univ[0])\n",
    "print(\"karakter terakhir: \",univ[-1])\n",
    "#Universitas\n",
    "print(univ[0:11])\n",
    "print(univ[-5:-1])\n",
    "print(univ[17:])\n",
    "print(univ[::-1])"
   ]
  },
  {
   "cell_type": "code",
   "execution_count": 22,
   "id": "41cf216c",
   "metadata": {},
   "outputs": [
    {
     "name": "stdout",
     "output_type": "stream",
     "text": [
      "Nama saya Rudi Andri\n",
      "hasil penjumlahan 100 + 20 = 120\n"
     ]
    }
   ],
   "source": [
    "f_name ='Rudi'\n",
    "l_name = 'Andri'\n",
    " \n",
    "print(f'Nama saya {f_name} {l_name}')\n",
    "      \n",
    "first = 100\n",
    "second = 20\n",
    "print(f'hasil penjumlahan {first} + {second} = {first+second}')"
   ]
  },
  {
   "cell_type": "code",
   "execution_count": 31,
   "id": "01a8f8dc",
   "metadata": {},
   "outputs": [
    {
     "name": "stdout",
     "output_type": "stream",
     "text": [
      "['Andri', 'Budi', 'Cika']\n",
      "['Andri', 'Budi', 'Cika']\n",
      "Andri@.Budi@.Cika\n",
      "masukkan tanggal lahir : 18/Oktober/2010\n",
      "masukkan nama : Bill Gate\n",
      "Tanggal : 18, bulan:Oktober, Tahun:2010\n",
      "Nama inisial : BG\n"
     ]
    }
   ],
   "source": [
    "#fungsi string\n",
    "nama = \"Andri,Budi,Cika\"\n",
    "nama2 = \"Andri Budi Cika\"\n",
    "#split -> memisahkan string kedalam kumpulan karakter\n",
    "print(nama2.split())\n",
    "print(nama.split(','))\n",
    "\n",
    "#join -> menggabungkan string kedalam kumpulan karakter\n",
    "print('@.'.join(nama.split(',')))\n",
    "\n",
    "#input tgl lahir -> 18/Oktober/2010\n",
    "#input nama -> Bill Gate\n",
    "#output\n",
    "#Tgl : 18,Bulan:Oktober, Tahun :2010\n",
    "#Nama Inisial : BG\n",
    "\n",
    "tgl = input(\"masukkan tanggal lahir : \")\n",
    "nama = input(\"masukkan nama : \")\n",
    "pemisah = tgl.split('/')\n",
    "print(f\"Tanggal : {pemisah[0]}, bulan:{pemisah[1]}, Tahun:{pemisah[2]}\")\n",
    "pemisah2 = nama.split()\n",
    "nama_pertama  = pemisah2 [0]\n",
    "nama_terakhir = pemisah2 [1]\n",
    "print(f\"Nama inisial : {nama_pertama[0]+nama_terakhir[0]}\")"
   ]
  },
  {
   "cell_type": "code",
   "execution_count": null,
   "id": "13d16f4d",
   "metadata": {},
   "outputs": [],
   "source": []
  }
 ],
 "metadata": {
  "kernelspec": {
   "display_name": "Python 3 (ipykernel)",
   "language": "python",
   "name": "python3"
  },
  "language_info": {
   "codemirror_mode": {
    "name": "ipython",
    "version": 3
   },
   "file_extension": ".py",
   "mimetype": "text/x-python",
   "name": "python",
   "nbconvert_exporter": "python",
   "pygments_lexer": "ipython3",
   "version": "3.9.12"
  }
 },
 "nbformat": 4,
 "nbformat_minor": 5
}
